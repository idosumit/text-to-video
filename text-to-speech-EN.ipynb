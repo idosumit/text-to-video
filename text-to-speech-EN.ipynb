{
 "cells": [
  {
   "cell_type": "code",
   "execution_count": 1,
   "id": "b75e6d1e",
   "metadata": {},
   "outputs": [],
   "source": [
    "# Installing the required libraries\n",
    "# !pip install python-docx\n",
    "# !pip install pytesseract\n",
    "# !pip install gtts\n",
    "# !pip install opencv-python-headless\n",
    "# !pip install opencv-python\n",
    "# !pip install moviepy\n",
    "# !pip install docx2python\n",
    "# !pip install tinytag\n",
    "# !pip install Pillow"
   ]
  },
  {
   "cell_type": "code",
   "execution_count": 2,
   "id": "1132d8a7",
   "metadata": {},
   "outputs": [],
   "source": [
    "# Importing the necessary modules\n",
    "import os\n",
    "import cv2\n",
    "import docx\n",
    "from docx import Document\n",
    "from gtts import gTTS\n",
    "from moviepy.editor import *\n",
    "from docx2python import docx2python\n",
    "from tinytag import TinyTag"
   ]
  },
  {
   "cell_type": "code",
   "execution_count": 3,
   "id": "10e2f410",
   "metadata": {},
   "outputs": [],
   "source": [
    "# Reading the Word document\n",
    "\n",
    "from PIL import Image\n",
    "\n",
    "def read_word_docx(document_path):\n",
    "    doc = Document(document_path)\n",
    "    paragraphs = [para.text for para in doc.paragraphs if para.text != '']\n",
    "\n",
    "    doc_result = docx2python(document_path)\n",
    "    images = []\n",
    "\n",
    "    for i, image_data in enumerate(doc_result.images.values()):\n",
    "        temp_image_path = f'temp_image_{i}'\n",
    "        image_path = f'image_{i}.png'\n",
    "        \n",
    "        with open(temp_image_path, 'wb') as f:\n",
    "            f.write(image_data)\n",
    "        \n",
    "        img = Image.open(temp_image_path)\n",
    "        width, height = img.size\n",
    "        new_height = 720\n",
    "        new_width = int((new_height / height) * width)\n",
    "        resized_img = img.resize((new_width, new_height), Image.ANTIALIAS)\n",
    "        resized_img.save(image_path)\n",
    "        \n",
    "        os.remove(temp_image_path)\n",
    "        images.append(image_path)\n",
    "\n",
    "    return paragraphs, images\n",
    "\n",
    "\n",
    "document_path = '/Users/psumit/Documents/Career/Codespace/Projects/text-to-video/text-to-video-EN/test4page.docx'\n",
    "paragraphs, images = read_word_docx(document_path)"
   ]
  },
  {
   "attachments": {},
   "cell_type": "markdown",
   "id": "f1747c80",
   "metadata": {},
   "source": [
    "### Step 4: Transcribing the text and create audio files."
   ]
  },
  {
   "cell_type": "code",
   "execution_count": 4,
   "id": "48053019",
   "metadata": {},
   "outputs": [],
   "source": [
    "# Step 4: Creating audio files\n",
    "def mp3_duration(file_path):\n",
    "    tag = TinyTag.get(file_path)\n",
    "    return tag.duration\n",
    "\n",
    "def create_audio_files(paragraphs, language='en'):\n",
    "    audio_files = []\n",
    "    for i, text in enumerate(paragraphs):\n",
    "        audio_path = f'audio_{i}.mp3'\n",
    "        tts = gTTS(text, lang=language)\n",
    "        tts.save(audio_path)\n",
    "        audio_files.append(audio_path)\n",
    "    return audio_files\n",
    "\n",
    "audio_files = create_audio_files(paragraphs)"
   ]
  },
  {
   "cell_type": "markdown",
   "id": "83b0423a",
   "metadata": {},
   "source": [
    "### Step 5: Creating video"
   ]
  },
  {
   "cell_type": "code",
   "execution_count": 5,
   "id": "4e99aff7",
   "metadata": {},
   "outputs": [
    {
     "name": "stdout",
     "output_type": "stream",
     "text": [
      "Moviepy - Building video /Users/psumit/Documents/Career/Codespace/Projects/text-to-video/NewOutput.mp4.\n",
      "MoviePy - Writing audio in NewOutputTEMP_MPY_wvf_snd.mp3\n"
     ]
    },
    {
     "name": "stderr",
     "output_type": "stream",
     "text": [
      "                                                                                                                                                                                \r"
     ]
    },
    {
     "name": "stdout",
     "output_type": "stream",
     "text": [
      "MoviePy - Done.\n",
      "Moviepy - Writing video /Users/psumit/Documents/Career/Codespace/Projects/text-to-video/NewOutput.mp4\n",
      "\n"
     ]
    },
    {
     "name": "stderr",
     "output_type": "stream",
     "text": [
      "                                                                                                                                                                                \r"
     ]
    },
    {
     "name": "stdout",
     "output_type": "stream",
     "text": [
      "Moviepy - Done !\n",
      "Moviepy - video ready /Users/psumit/Documents/Career/Codespace/Projects/text-to-video/NewOutput.mp4\n"
     ]
    }
   ],
   "source": [
    "import textwrap\n",
    "\n",
    "def wrap_text(text, max_width=50):\n",
    "    lines = textwrap.wrap(text, width=max_width)\n",
    "    return '\\n'.join(lines)\n",
    "\n",
    "\n",
    "def create_video(paragraphs, images, audio_files, output_path='/Users/psumit/Documents/Career/Codespace/Projects/text-to-video/text-to-video-EN/NewOutput.mp4'):\n",
    "    clips = []\n",
    "\n",
    "    intro_text = wrap_text(paragraphs[0])\n",
    "    outro_text = wrap_text(paragraphs[-1])\n",
    "\n",
    "    intro_clip = TextClip(intro_text, fontsize=24, color='white', size=(1280, 720), bg_color='black', print_cmd=False)\n",
    "    intro_audio = AudioFileClip(audio_files[0])\n",
    "    intro_clip = intro_clip.set_duration(intro_audio.duration).set_audio(intro_audio)\n",
    "    clips.append(intro_clip)\n",
    "\n",
    "    for i in range(1, len(paragraphs) - 1):\n",
    "        image_path = images[i - 1]\n",
    "        audio_path = audio_files[i]\n",
    "\n",
    "        img = ImageClip(image_path)\n",
    "        img = img.set_position('center').resize(height=720)\n",
    "\n",
    "        composite_clip = CompositeVideoClip([img], size=(1280, 720))\n",
    "        audio_clip = AudioFileClip(audio_path)\n",
    "\n",
    "        composite_clip = composite_clip.set_duration(audio_clip.duration).set_audio(audio_clip)\n",
    "        clips.append(composite_clip)\n",
    "\n",
    "    outro_clip = TextClip(outro_text, fontsize=24, color='white', size=(1280, 720), bg_color='black', print_cmd=False)\n",
    "    outro_audio = AudioFileClip(audio_files[-1])\n",
    "    outro_clip = outro_clip.set_duration(outro_audio.duration).set_audio(outro_audio)\n",
    "    clips.append(outro_clip)\n",
    "\n",
    "    final_clip = concatenate_videoclips(clips)\n",
    "    final_clip.write_videofile(output_path, codec='libx264', fps=24)\n",
    "\n",
    "create_video(paragraphs, images, audio_files)"
   ]
  }
 ],
 "metadata": {
  "kernelspec": {
   "display_name": "Python 3 (ipykernel)",
   "language": "python",
   "name": "python3"
  },
  "language_info": {
   "codemirror_mode": {
    "name": "ipython",
    "version": 3
   },
   "file_extension": ".py",
   "mimetype": "text/x-python",
   "name": "python",
   "nbconvert_exporter": "python",
   "pygments_lexer": "ipython3",
   "version": "3.8.16"
  }
 },
 "nbformat": 4,
 "nbformat_minor": 5
}
